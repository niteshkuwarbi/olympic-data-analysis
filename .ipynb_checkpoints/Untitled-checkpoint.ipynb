{
 "cells": [
  {
   "cell_type": "code",
   "execution_count": null,
   "id": "c3368d1b-32d0-4860-b466-5817058f0690",
   "metadata": {},
   "outputs": [],
   "source": [
    "import pandas as pd\n",
    "import numpy as np\n",
    "import matplotlib.pyplot as plt"
   ]
  },
  {
   "cell_type": "code",
   "execution_count": null,
   "id": "3f4ca3da-2384-4f0c-b3aa-9aabbbeb1d62",
   "metadata": {},
   "outputs": [],
   "source": [
    "bios = pd.read_csv('bios.csv')\n",
    "noc_regions = pd.read_csv('noc_regions.csv')\n",
    "results = pd.read_csv('results.csv')"
   ]
  },
  {
   "cell_type": "code",
   "execution_count": null,
   "id": "170f5e72-7001-49df-a49c-780657256af6",
   "metadata": {},
   "outputs": [],
   "source": [
    "bios.head()"
   ]
  },
  {
   "cell_type": "code",
   "execution_count": null,
   "id": "7f71a2d3-223a-4f48-af47-fa7fe42a1081",
   "metadata": {},
   "outputs": [],
   "source": [
    "results.head()"
   ]
  },
  {
   "cell_type": "markdown",
   "id": "c722de7b-03f1-4aef-a64b-7339bf6bf4e4",
   "metadata": {},
   "source": [
    "# Merging datasets - bios and results"
   ]
  },
  {
   "cell_type": "code",
   "execution_count": null,
   "id": "69a8e85b-34e9-42c3-b262-21eb88289ccf",
   "metadata": {},
   "outputs": [],
   "source": [
    "df = pd.merge(bios,results, how='outer', on=['athlete_id'])"
   ]
  },
  {
   "cell_type": "code",
   "execution_count": null,
   "id": "6dd4fb30-5f00-452d-8073-bf9ba601fee2",
   "metadata": {},
   "outputs": [],
   "source": [
    "df.to_csv('merged_df.csv', index=False)"
   ]
  },
  {
   "cell_type": "code",
   "execution_count": null,
   "id": "a6c41892-97d5-4bf7-bbe7-34dc124e326e",
   "metadata": {},
   "outputs": [],
   "source": [
    "df.info()"
   ]
  },
  {
   "cell_type": "code",
   "execution_count": null,
   "id": "68c01a91-9308-41ab-9980-6da9e250cdf6",
   "metadata": {},
   "outputs": [],
   "source": [
    "df = df[~df['Year'].isin([2010, 2014, 2018])]"
   ]
  },
  {
   "cell_type": "code",
   "execution_count": null,
   "id": "dc60bac6-cb84-4962-addd-bfe6b2cf8d04",
   "metadata": {},
   "outputs": [],
   "source": [
    "df.shape"
   ]
  },
  {
   "cell_type": "code",
   "execution_count": null,
   "id": "b75fa7c2-773a-4b48-846c-fcf66cc42e25",
   "metadata": {},
   "outputs": [],
   "source": [
    "df = df[df['Type'] == 'Summer']"
   ]
  },
  {
   "cell_type": "code",
   "execution_count": null,
   "id": "ef5601fa-7032-4e55-842b-463c3dbfa5bb",
   "metadata": {},
   "outputs": [],
   "source": [
    "df.shape"
   ]
  },
  {
   "cell_type": "code",
   "execution_count": null,
   "id": "a7cff7c6-fd13-4b2b-97db-064b1bef6266",
   "metadata": {},
   "outputs": [],
   "source": [
    "df['Event'].unique().shape"
   ]
  },
  {
   "cell_type": "code",
   "execution_count": null,
   "id": "9c492678-f91c-4fd9-aa60-d650546fdf3e",
   "metadata": {},
   "outputs": [],
   "source": [
    "# df = df.merge(noc_regions, on='NOC', how='left')"
   ]
  },
  {
   "cell_type": "code",
   "execution_count": null,
   "id": "5da4a60f-39bc-433d-adf2-767e80c8408a",
   "metadata": {},
   "outputs": [],
   "source": [
    "df.info()"
   ]
  },
  {
   "cell_type": "code",
   "execution_count": null,
   "id": "77ad19d8-42f9-480c-a475-2c5b12db0449",
   "metadata": {},
   "outputs": [],
   "source": [
    "df['Region'].unique().shape"
   ]
  },
  {
   "cell_type": "markdown",
   "id": "637d6394-afac-45e8-b6ab-0cabbb92c85a",
   "metadata": {},
   "source": [
    "# Adding the Dataset of 2024 with the Merged Dataset"
   ]
  },
  {
   "cell_type": "code",
   "execution_count": null,
   "id": "8f6647ad-c7f7-4478-90fa-d0e5680a3156",
   "metadata": {},
   "outputs": [],
   "source": [
    "final2024 = pd.read_csv('final2024.csv')"
   ]
  },
  {
   "cell_type": "code",
   "execution_count": null,
   "id": "1521bb22-09f8-4f19-8cda-fef8796be517",
   "metadata": {},
   "outputs": [],
   "source": [
    "final2024.columns = final2024.columns.str.strip()\n",
    "\n",
    "final2024['Bronze'] = final2024['Bronze'].astype('object')\n",
    "final2024['Gold'] = final2024['Gold'].astype('object')\n",
    "final2024['Silver'] = final2024['Silver'].astype('object')\n",
    "\n",
    "df = pd.concat([df, final2024], ignore_index=True)"
   ]
  },
  {
   "cell_type": "code",
   "execution_count": null,
   "id": "3721d031-c3ee-47fb-baf6-b3f5eaaf9348",
   "metadata": {},
   "outputs": [],
   "source": [
    "df.info()"
   ]
  },
  {
   "cell_type": "markdown",
   "id": "991c619d-a9c2-473c-bd29-cc6cf0bd5717",
   "metadata": {},
   "source": [
    "# MEDAL TALLY"
   ]
  },
  {
   "cell_type": "code",
   "execution_count": null,
   "id": "1c070453-319f-4bee-b1f6-bd698e81ec3e",
   "metadata": {},
   "outputs": [],
   "source": [
    "# df = pd.read_csv('finalData2024.csv')"
   ]
  },
  {
   "cell_type": "code",
   "execution_count": null,
   "id": "f89b4206-eab2-4013-b9ff-a20079c5116d",
   "metadata": {},
   "outputs": [],
   "source": [
    "df.head()"
   ]
  },
  {
   "cell_type": "code",
   "execution_count": null,
   "id": "c6311150-4361-4ef2-95e1-eb028d164816",
   "metadata": {},
   "outputs": [],
   "source": [
    "df.info()"
   ]
  },
  {
   "cell_type": "code",
   "execution_count": null,
   "id": "6de4bc8c-b9e3-407b-9964-099c62fe740c",
   "metadata": {},
   "outputs": [],
   "source": [
    "df.duplicated().sum()"
   ]
  },
  {
   "cell_type": "code",
   "execution_count": null,
   "id": "599aa5c1-7594-46df-a785-9b0820441059",
   "metadata": {},
   "outputs": [],
   "source": [
    "df.drop_duplicates(inplace=True)"
   ]
  },
  {
   "cell_type": "code",
   "execution_count": null,
   "id": "b18574d3-f96d-4bd3-8fd0-9ae6f31806e7",
   "metadata": {},
   "outputs": [],
   "source": [
    "df.duplicated().sum()"
   ]
  },
  {
   "cell_type": "code",
   "execution_count": null,
   "id": "f3072f1a-a12c-4222-b3c0-5e763d99dbcf",
   "metadata": {},
   "outputs": [],
   "source": [
    "df.head()"
   ]
  },
  {
   "cell_type": "code",
   "execution_count": null,
   "id": "5d8e36f6-009a-461b-bcba-1fb5ec114ecf",
   "metadata": {},
   "outputs": [],
   "source": [
    "df['Medal'].value_counts()"
   ]
  },
  {
   "cell_type": "code",
   "execution_count": null,
   "id": "777840f1-6fb2-47a4-b896-673ca7b173e0",
   "metadata": {},
   "outputs": [],
   "source": [
    "df.head()"
   ]
  },
  {
   "cell_type": "code",
   "execution_count": null,
   "id": "eb145e6d-0710-4c99-9acf-d9a288267bc0",
   "metadata": {},
   "outputs": [],
   "source": [
    "df.groupby('NOC').sum()[['Gold', 'Silver', 'Bronze']].sort_values('Gold',ascending=False).reset_index().head(25)"
   ]
  },
  {
   "cell_type": "code",
   "execution_count": null,
   "id": "1df6b1dc-3adb-43c7-b6e5-52b96f31672d",
   "metadata": {},
   "outputs": [],
   "source": [
    "df[df['NOC'] == 'IND']"
   ]
  },
  {
   "cell_type": "code",
   "execution_count": null,
   "id": "7009cc58-023c-4c46-a297-6207dc668a96",
   "metadata": {},
   "outputs": [],
   "source": [
    "medal_tally = df.drop_duplicates(subset=['Team', 'NOC', 'Year', 'Region', 'Sport', 'Event', 'Medal'])"
   ]
  },
  {
   "cell_type": "code",
   "execution_count": null,
   "id": "20d78592-29d0-47bb-9526-4b7846f96185",
   "metadata": {},
   "outputs": [],
   "source": [
    "medal_tally = medal_tally.groupby('Region').sum()[['Gold', 'Silver', 'Bronze']].sort_values('Gold',ascending=False).reset_index()"
   ]
  },
  {
   "cell_type": "code",
   "execution_count": null,
   "id": "3bbc0816-51f2-45df-bab0-00566706d4af",
   "metadata": {},
   "outputs": [],
   "source": [
    "medal_tally['Total'] = medal_tally['Gold'] + medal_tally['Silver'] + medal_tally['Bronze']"
   ]
  },
  {
   "cell_type": "code",
   "execution_count": null,
   "id": "b4dd1385-f26e-47f8-a76c-0abdab5f2614",
   "metadata": {},
   "outputs": [],
   "source": [
    "medal_tally"
   ]
  },
  {
   "cell_type": "code",
   "execution_count": null,
   "id": "1d73e115-7cca-4488-a5e5-761689445323",
   "metadata": {},
   "outputs": [],
   "source": [
    "medal_tally[medal_tally['Region'] == 'India']"
   ]
  },
  {
   "cell_type": "code",
   "execution_count": null,
   "id": "94400c75-baed-43bf-986f-41ba340f5c96",
   "metadata": {},
   "outputs": [],
   "source": [
    "medal_tally.head()"
   ]
  },
  {
   "cell_type": "markdown",
   "id": "075414f7-c035-4d14-89a9-9771e28dd6a9",
   "metadata": {
    "jp-MarkdownHeadingCollapsed": true
   },
   "source": [
    "# Year,Country Wise Analysis"
   ]
  },
  {
   "cell_type": "code",
   "execution_count": null,
   "id": "65840dd0-7a84-4569-ad88-61d8b45136bf",
   "metadata": {},
   "outputs": [],
   "source": [
    "years = df['Year'].unique().tolist()"
   ]
  },
  {
   "cell_type": "code",
   "execution_count": null,
   "id": "b589d2ce-42ca-47b1-9334-5109eeceb0dc",
   "metadata": {},
   "outputs": [],
   "source": [
    "years.sort()"
   ]
  },
  {
   "cell_type": "code",
   "execution_count": null,
   "id": "369f2037-37e0-4294-8ff2-10a88486efc8",
   "metadata": {},
   "outputs": [],
   "source": [
    "years.insert(0,'Overall')"
   ]
  },
  {
   "cell_type": "code",
   "execution_count": null,
   "id": "88698a20-7f6e-436f-a992-10aff3ba62cf",
   "metadata": {},
   "outputs": [],
   "source": [
    "years"
   ]
  },
  {
   "cell_type": "code",
   "execution_count": null,
   "id": "ec16694b-3cb2-431e-ba36-324157658b01",
   "metadata": {},
   "outputs": [],
   "source": [
    "country = np.unique(df['Region'].dropna().values).tolist()"
   ]
  },
  {
   "cell_type": "code",
   "execution_count": null,
   "id": "2d877867-5fd9-4688-b685-b205e6fb556e",
   "metadata": {},
   "outputs": [],
   "source": [
    "country.sort()"
   ]
  },
  {
   "cell_type": "code",
   "execution_count": null,
   "id": "08dcb521-8604-419a-8cd1-3a29718d0f11",
   "metadata": {},
   "outputs": [],
   "source": [
    "country.insert(0,'Overall')"
   ]
  },
  {
   "cell_type": "code",
   "execution_count": null,
   "id": "546b1e0e-0a1e-4a85-8ee2-3b7a4f66e2a6",
   "metadata": {},
   "outputs": [],
   "source": [
    "country"
   ]
  },
  {
   "cell_type": "code",
   "execution_count": null,
   "id": "13ab6d98-d857-4e92-8907-c605bd977290",
   "metadata": {},
   "outputs": [],
   "source": [
    "def fetch_medal_tally(year, country):\n",
    "    medal_df = df.drop_duplicates(subset=['Team', 'NOC', 'Year', 'Region', 'Sport', 'Event', 'Medal'])\n",
    "    \n",
    "    flag = 0\n",
    "    if year == 'Overall' and country == 'Overall':\n",
    "        temp_df = medal_df\n",
    "        \n",
    "    if year == 'Overall' and country != 'Overall':\n",
    "        flag = 1\n",
    "        temp_df = medal_df[medal_df['Region'] == country]\n",
    "        \n",
    "    if year != 'Overall' and country == 'Overall':\n",
    "        temp_df = medal_df[medal_df['Year'] == int(year)]\n",
    "        \n",
    "    if year != 'Overall' and country != 'Overall':\n",
    "        temp_df = medal_df[(medal_df['Year'] == int(year)) & (medal_df['Region'] == country)]\n",
    "\n",
    "    if flag == 1:\n",
    "        x = temp_df.groupby('Year').sum()[['Gold', 'Silver', 'Bronze']].sort_values('Year').reset_index()\n",
    "    else:\n",
    "        x = temp_df.groupby('Region').sum()[['Gold', 'Silver', 'Bronze']].sort_values('Gold',ascending=False).reset_index()\n",
    "        \n",
    "    x['Total'] = x['Gold'] + x['Silver'] + x['Bronze']\n",
    "\n",
    "    print(x)"
   ]
  },
  {
   "cell_type": "code",
   "execution_count": null,
   "id": "fa3751c9-c0a6-42a9-a841-f89841534015",
   "metadata": {},
   "outputs": [],
   "source": [
    "fetch_medal_tally(year='2024', country='India')"
   ]
  },
  {
   "cell_type": "markdown",
   "id": "798ba5e8-9aa1-4740-a5be-7aed3205ac6b",
   "metadata": {},
   "source": [
    "# Overall Analysis"
   ]
  },
  {
   "cell_type": "raw",
   "id": "759df6a6-3916-4039-b2b7-ea40a91055b9",
   "metadata": {},
   "source": [
    "* No. of editions\n",
    "* No. of cities\n",
    "* No. of events/sports\n",
    "* No. of athletes\n",
    "* participating nations"
   ]
  },
  {
   "cell_type": "code",
   "execution_count": null,
   "id": "83ebea4b-7a9e-4239-bd53-e89116e7bcd3",
   "metadata": {},
   "outputs": [],
   "source": [
    "df.head(2)"
   ]
  },
  {
   "cell_type": "code",
   "execution_count": null,
   "id": "dc9e4b1f-e658-4cca-aa1d-c100c5c35d54",
   "metadata": {},
   "outputs": [],
   "source": [
    "df['Year'].unique().shape[0] - 1"
   ]
  },
  {
   "cell_type": "code",
   "execution_count": null,
   "id": "438d2dc9-fd91-4314-bf65-48ec05353972",
   "metadata": {},
   "outputs": [],
   "source": [
    "df['Sport'].unique()"
   ]
  },
  {
   "cell_type": "code",
   "execution_count": null,
   "id": "51693370-92a3-40ed-b757-f4b3f5de0cb8",
   "metadata": {},
   "outputs": [],
   "source": [
    "df['Event'].unique().shape"
   ]
  },
  {
   "cell_type": "code",
   "execution_count": null,
   "id": "630f42b7-436f-4acb-bacb-165c3be5780d",
   "metadata": {},
   "outputs": [],
   "source": [
    "df['name'].unique().shape"
   ]
  },
  {
   "cell_type": "code",
   "execution_count": null,
   "id": "0c51fc90-c3a6-4df9-a0f6-f7eead343e10",
   "metadata": {},
   "outputs": [],
   "source": [
    "df['Region'].unique().shape"
   ]
  },
  {
   "cell_type": "code",
   "execution_count": null,
   "id": "06f7d0ac-aa08-4c99-8cd1-69e91ad2d2f3",
   "metadata": {},
   "outputs": [],
   "source": [
    "# Participating nations over time\n",
    "df.head()"
   ]
  },
  {
   "cell_type": "code",
   "execution_count": null,
   "id": "eb0af9c6-5772-434d-b770-525f3954baa7",
   "metadata": {},
   "outputs": [],
   "source": [
    "df = df[~df['Year'].isin([2010, 2014, 2018])]\n",
    "df.head()"
   ]
  },
  {
   "cell_type": "code",
   "execution_count": null,
   "id": "92f6d79c-6122-4336-8131-5220d8e7d1c1",
   "metadata": {},
   "outputs": [],
   "source": [
    "df.drop_duplicates(['Year', 'Region'])['Year'].value_counts().reset_index().sort_values('Year')"
   ]
  },
  {
   "cell_type": "code",
   "execution_count": null,
   "id": "52efc2f8-56c6-4324-a4d3-f0d0cf961828",
   "metadata": {},
   "outputs": [],
   "source": [
    "nations_over_time = df.drop_duplicates(['Year', 'Region'])['Year'].value_counts().reset_index().sort_values('Year')"
   ]
  },
  {
   "cell_type": "code",
   "execution_count": null,
   "id": "b3e12638-2f0a-48ed-887d-586e818c30b3",
   "metadata": {},
   "outputs": [],
   "source": [
    "nations_over_time.head()"
   ]
  },
  {
   "cell_type": "code",
   "execution_count": null,
   "id": "7cb233a9-55b9-490d-bf93-3e50f1425ff4",
   "metadata": {},
   "outputs": [],
   "source": [
    "nations_over_time.rename(columns={'Year':'Edition', 'count':'No. of Countries'}, inplace=True)"
   ]
  },
  {
   "cell_type": "code",
   "execution_count": null,
   "id": "d82728cb-f178-41dd-9de0-8874326e4b66",
   "metadata": {},
   "outputs": [],
   "source": [
    "nations_over_time"
   ]
  },
  {
   "cell_type": "code",
   "execution_count": null,
   "id": "7696d213-ce4a-403d-806a-9a2ee57f3734",
   "metadata": {},
   "outputs": [],
   "source": [
    "import plotly.express as px"
   ]
  },
  {
   "cell_type": "code",
   "execution_count": null,
   "id": "4acea8ec-36bc-4294-a61f-a0be04a91e49",
   "metadata": {},
   "outputs": [],
   "source": [
    "fig = px.line(nations_over_time, x='Edition', y='No. of Countries')\n",
    "fig.show()"
   ]
  },
  {
   "cell_type": "code",
   "execution_count": null,
   "id": "ddfe0594-bfc4-47d2-89da-ee0b628b2851",
   "metadata": {},
   "outputs": [],
   "source": [
    "df.drop_duplicates(['Year', 'Event'])['Year'].value_counts().reset_index().sort_values('Year')"
   ]
  },
  {
   "cell_type": "code",
   "execution_count": null,
   "id": "459be111-fce3-42b2-b398-c7232e096f40",
   "metadata": {},
   "outputs": [],
   "source": [
    "import seaborn as sns"
   ]
  },
  {
   "cell_type": "code",
   "execution_count": null,
   "id": "3594fe85-26e8-498b-8e17-be96f95b221c",
   "metadata": {},
   "outputs": [],
   "source": [
    "x = df.drop_duplicates(['Year', 'Sport', 'Event'])"
   ]
  },
  {
   "cell_type": "code",
   "execution_count": null,
   "id": "28b57eb1-dec2-4963-8dbe-60cce8e51c7e",
   "metadata": {},
   "outputs": [],
   "source": [
    "df['Sport'].unique()"
   ]
  },
  {
   "cell_type": "code",
   "execution_count": null,
   "id": "f7ed52b6-346c-4cc3-a453-801549e22ef5",
   "metadata": {},
   "outputs": [],
   "source": [
    "plt.figure(figsize=(20, 20))\n",
    "sns.heatmap(x.pivot_table(index='Sport', columns='Year', values='Event', aggfunc='count').fillna(0).astype('int'), annot=True)"
   ]
  },
  {
   "cell_type": "code",
   "execution_count": null,
   "id": "2185600a-1a4a-430b-b87b-fcae4e911707",
   "metadata": {},
   "outputs": [],
   "source": [
    "print(df.columns)"
   ]
  },
  {
   "cell_type": "code",
   "execution_count": null,
   "id": "b2f4d005-df30-43e0-af2f-504004afaedb",
   "metadata": {},
   "outputs": [],
   "source": [
    "def most_successful(df, sport):\n",
    "    temp_df = df.dropna(subset=['Medal'])\n",
    "\n",
    "    if sport != 'Overall':\n",
    "        temp_df = temp_df[temp_df['Sport'] == sport]\n",
    "    \n",
    "    top_athletes = temp_df['name'].value_counts().reset_index().head(15)\n",
    "    top_athletes.columns = ['name', 'count']\n",
    "    \n",
    "    result = top_athletes.merge(df, on='name', how='left')[['name', 'count', 'Sport', 'Region']].drop_duplicates('name')\n",
    "    result.rename(columns={'name':'Name', 'count':'Medals'}, inplace = True)\n",
    "    return result"
   ]
  },
  {
   "cell_type": "code",
   "execution_count": null,
   "id": "a1b53215-c376-4095-8f18-15d72629d905",
   "metadata": {},
   "outputs": [],
   "source": [
    "most_successful(df, 'Overall')"
   ]
  },
  {
   "cell_type": "markdown",
   "id": "05d2b831-9dae-48a7-9b93-d77c2444c00d",
   "metadata": {},
   "source": [
    "# Country Wise Analysis"
   ]
  },
  {
   "cell_type": "raw",
   "id": "cd7cc680-a668-4eff-8ece-1617f61393aa",
   "metadata": {},
   "source": [
    "* Countrywise medal tally per year(line plot)\n",
    "* Which countries are good at heatmap\n",
    "* Most successful Athletes(Top 10)"
   ]
  },
  {
   "cell_type": "code",
   "execution_count": null,
   "id": "43d49347-2fa3-43e2-9186-7c99e070ffad",
   "metadata": {},
   "outputs": [],
   "source": [
    "temp_df = df.dropna(subset='Medal')\n",
    "temp_df.drop_duplicates(subset=['Team', 'NOC', 'Year', 'Sport', 'Event', 'Medal'], inplace=True)"
   ]
  },
  {
   "cell_type": "code",
   "execution_count": null,
   "id": "e52a8249-795b-4b81-91ad-93aa3545291e",
   "metadata": {},
   "outputs": [],
   "source": [
    "new_df = temp_df[temp_df['Region'] == 'India']\n",
    "final_df = new_df.groupby('Year').count()['Medal'].reset_index()"
   ]
  },
  {
   "cell_type": "code",
   "execution_count": null,
   "id": "4d5503af-ba94-4e8d-89e1-4759aebce521",
   "metadata": {},
   "outputs": [],
   "source": [
    "fig = px.line(final_df, x='Year', y='Medal')\n",
    "fig.show()"
   ]
  },
  {
   "cell_type": "code",
   "execution_count": null,
   "id": "36117d8a-0448-46be-8288-4a404f700bb9",
   "metadata": {},
   "outputs": [],
   "source": [
    "new_df = temp_df[temp_df['Region'] == 'USA']\n",
    "plt.figure(figsize=(20,20))\n",
    "sns.heatmap(new_df.pivot_table(index='Sport', columns='Year', values='Medal', aggfunc='count').fillna(0), annot=True)"
   ]
  },
  {
   "cell_type": "code",
   "execution_count": null,
   "id": "68015d13-a4d6-4bd6-9d80-cab3b6f12890",
   "metadata": {},
   "outputs": [],
   "source": [
    "def most_successful(df, country):\n",
    "    temp_df = df.dropna(subset=['Medal'])\n",
    "\n",
    "    temp_df = temp_df[temp_df['Region'] == country]\n",
    "    \n",
    "    top_athletes = temp_df['name'].value_counts().reset_index().head(15)\n",
    "    top_athletes.columns = ['name', 'count']\n",
    "    \n",
    "    result = top_athletes.merge(df, on='name', how='left')[['name', 'count', 'Sport',]].drop_duplicates('name')\n",
    "    result.rename(columns={'name':'Name', 'count':'Medals'}, inplace = True)\n",
    "    return result"
   ]
  },
  {
   "cell_type": "code",
   "execution_count": null,
   "id": "e5e65b76-27b8-457c-b264-006011af31e3",
   "metadata": {},
   "outputs": [],
   "source": [
    "most_successful(df, 'USA')"
   ]
  },
  {
   "cell_type": "code",
   "execution_count": null,
   "id": "72fde533-d638-4ae6-bd12-b3e0435192f3",
   "metadata": {},
   "outputs": [],
   "source": [
    "df.tail()"
   ]
  },
  {
   "cell_type": "code",
   "execution_count": null,
   "id": "0e8008c9-0609-4378-a169-11488cd993ca",
   "metadata": {},
   "outputs": [],
   "source": [
    "df.head()"
   ]
  },
  {
   "cell_type": "code",
   "execution_count": null,
   "id": "5fbd6916-a754-408b-8c8c-468e48c966ec",
   "metadata": {},
   "outputs": [],
   "source": [
    "sns.barplot(x='Country', y='Medal', data=df)"
   ]
  },
  {
   "cell_type": "code",
   "execution_count": null,
   "id": "05aa9a9a-c0c9-4a94-b194-e22658ad1177",
   "metadata": {},
   "outputs": [],
   "source": []
  }
 ],
 "metadata": {
  "kernelspec": {
   "display_name": "Python 3 (ipykernel)",
   "language": "python",
   "name": "python3"
  },
  "language_info": {
   "codemirror_mode": {
    "name": "ipython",
    "version": 3
   },
   "file_extension": ".py",
   "mimetype": "text/x-python",
   "name": "python",
   "nbconvert_exporter": "python",
   "pygments_lexer": "ipython3",
   "version": "3.12.1"
  }
 },
 "nbformat": 4,
 "nbformat_minor": 5
}
